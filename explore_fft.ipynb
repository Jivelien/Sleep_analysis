{
 "cells": [
  {
   "cell_type": "code",
   "id": "c4eac61157ac061d",
   "metadata": {
    "ExecuteTime": {
     "end_time": "2024-12-09T18:11:23.566999Z",
     "start_time": "2024-12-09T18:11:22.677779Z"
    }
   },
   "source": [
    "from mne.io import read_raw_edf\n",
    "\n",
    "from try_fft3 import current_signal\n",
    "\n",
    "file_path = \"01IS-1-ADP.edf\"\n",
    "raw = read_raw_edf(file_path, preload=True)\n",
    "\n",
    "sampling_rate = int(raw.info['sfreq'])\n",
    "signal = raw.get_data(picks=\"eeg\")[0]"
   ],
   "outputs": [
    {
     "name": "stdout",
     "output_type": "stream",
     "text": [
      "Extracting EDF parameters from /media/artem/data/Dev/Sleep_analysis/01IS-1-ADP.edf...\n",
      "EDF file detected\n",
      "Setting channel info structure...\n",
      "Creating raw.info structure...\n",
      "Reading 0 ... 7529215  =      0.000 ... 29410.996 secs...\n"
     ]
    }
   ],
   "execution_count": 3
  },
  {
   "cell_type": "code",
   "id": "a6c7002cf280f7ca",
   "metadata": {
    "ExecuteTime": {
     "end_time": "2024-12-09T18:11:27.690951Z",
     "start_time": "2024-12-09T18:11:27.688893Z"
    }
   },
   "source": [
    "from signal_periodizer.periodizer import SignalPeriodizer\n",
    "\n",
    "periodizer = SignalPeriodizer(point_per_period = sampling_rate * 20 )\n",
    "last_period = periodizer.last_period_for(signal=signal)\n",
    "\n",
    "print(f\"{last_period=}\")"
   ],
   "outputs": [
    {
     "name": "stdout",
     "output_type": "stream",
     "text": [
      "last_period=1469\n"
     ]
    }
   ],
   "execution_count": 4
  },
  {
   "metadata": {
    "ExecuteTime": {
     "end_time": "2024-12-09T18:18:36.185864Z",
     "start_time": "2024-12-09T18:18:35.695320Z"
    }
   },
   "cell_type": "code",
   "source": [
    "from tqdm import tqdm\n",
    "from fft_analyser.homebrew import FftHomebrew\n",
    "from fft_analyser.welch import FftWelch\n",
    "\n",
    "fft_analyser = FftWelch(sampling_rate=sampling_rate)\n",
    "\n",
    "all_fft_analysis = {}\n",
    "all_signal_period = {}\n",
    "\n",
    "for period in tqdm(range(last_period + 1)):\n",
    "    current_signal = periodizer.period_for(signal=signal, n_of_period=period)\n",
    "    all_signal_period[period] = current_signal\n",
    "\n",
    "    result = fft_analyser.compute_for(signal=current_signal)\n",
    "    all_fft_analysis[period] = result\n"
   ],
   "id": "473d4601bc22ba08",
   "outputs": [
    {
     "name": "stderr",
     "output_type": "stream",
     "text": [
      "100%|██████████| 1470/1470 [00:00<00:00, 3193.19it/s]\n"
     ]
    }
   ],
   "execution_count": 9
  },
  {
   "cell_type": "code",
   "id": "2f9aa51ab2c674de",
   "metadata": {
    "ExecuteTime": {
     "end_time": "2024-12-09T18:19:30.036546Z",
     "start_time": "2024-12-09T18:19:30.033192Z"
    }
   },
   "source": [
    "from matplotlib import gridspec, pyplot as plt\n",
    "\n",
    "\n",
    "def compute_graph_for_a_period(fft_analysis, signal_period, period=0):\n",
    "    fft = fft_analysis[period]\n",
    "    signal = signal_period[period]\n",
    "\n",
    "    fig = plt.figure(figsize=(10, 8))\n",
    "    gs = gridspec.GridSpec(2, 1, height_ratios=[1, 4])\n",
    "    ax0 = fig.add_subplot(gs[0])\n",
    "    ax1 = fig.add_subplot(gs[1])\n",
    "\n",
    "    ax0.plot(signal)\n",
    "    ax1.plot(fft.keys(), fft.values())\n",
    "\n",
    "    plt.show()\n",
    "\n",
    "#\n",
    "# compute_graph_for_a_period(fft_analysis=all_fft_analysis,\n",
    "#                            signal_period=all_signal_period,\n",
    "#                            period=0)\n"
   ],
   "outputs": [],
   "execution_count": 11
  },
  {
   "cell_type": "code",
   "id": "d5bc014a-94d4-4f67-a4f3-99ad34f3f6f4",
   "metadata": {
    "ExecuteTime": {
     "end_time": "2024-12-09T18:20:27.935192Z",
     "start_time": "2024-12-09T18:20:27.847629Z"
    }
   },
   "source": [
    "import ipywidgets as widgets\n",
    "from ipywidgets import interact\n",
    "\n",
    "def interactive_plot():\n",
    "    period_slider = widgets.IntSlider(value=52, min=0, max=last_period, step=1, description=\"Period:\")\n",
    "    interact(compute_graph_for_a_period,\n",
    "             fft_analysis=widgets.fixed(all_fft_analysis),\n",
    "             signal_period=widgets.fixed(all_signal_period),\n",
    "             period=period_slider)\n",
    "\n",
    "\n",
    "interactive_plot()"
   ],
   "outputs": [
    {
     "data": {
      "text/plain": [
       "interactive(children=(IntSlider(value=52, description='Period:', max=1469), Output()), _dom_classes=('widget-i…"
      ],
      "application/vnd.jupyter.widget-view+json": {
       "version_major": 2,
       "version_minor": 0,
       "model_id": "c9a4470bc88d498bb0a89c453ea0ba7c"
      }
     },
     "metadata": {},
     "output_type": "display_data"
    }
   ],
   "execution_count": 12
  },
  {
   "metadata": {
    "ExecuteTime": {
     "end_time": "2024-12-09T16:37:50.247528Z",
     "start_time": "2024-12-09T16:37:50.246411Z"
    }
   },
   "cell_type": "code",
   "source": "",
   "id": "907aefce03243b9b",
   "outputs": [],
   "execution_count": null
  }
 ],
 "metadata": {
  "kernelspec": {
   "display_name": "Python 3 (ipykernel)",
   "language": "python",
   "name": "python3"
  },
  "language_info": {
   "codemirror_mode": {
    "name": "ipython",
    "version": 3
   },
   "file_extension": ".py",
   "mimetype": "text/x-python",
   "name": "python",
   "nbconvert_exporter": "python",
   "pygments_lexer": "ipython3",
   "version": "3.12.3"
  }
 },
 "nbformat": 4,
 "nbformat_minor": 5
}
